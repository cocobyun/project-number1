{
 "cells": [
  {
   "cell_type": "code",
   "execution_count": null,
   "id": "6ae387d8-65df-4f85-8b2f-b1719da075c5",
   "metadata": {},
   "outputs": [],
   "source": [
    "\n",
    "d_close = d_data[['transaction_date', 'close']].copy()\n",
    "m_close = m_data[['transaction_date', 'close']].copy()\n",
    "combined_dm = combined_data = pd.merge(d_close, m_close, on='transaction_date', how='outer', suffixes=('_d', '_m'))\n",
    "combined_dm.set_index('transaction_date', inplace=True)\n",
    "combined_dm"
   ]
  },
  {
   "cell_type": "code",
   "execution_count": 24,
   "id": "f842424d-bfd4-4b38-b22f-3a3d3d3aa56f",
   "metadata": {},
   "outputs": [],
   "source": [
    "import pandas as pd\n",
    "import numpy as np\n",
    "import matplotlib.pyplot as plt\n",
    "\n",
    "df = pd.read_csv('stock_data_(daesung,mega).csv', parse_dates=['transaction_date'])\n",
    "df2 = pd.read_csv('stock_data_(hyundai,lotte).csv', parse_dates=['transaction_date'])\n",
    "df3 = pd.read_csv('stock_data_(emart,shinsegae).csv', parse_dates=['transaction_date'])\n",
    "\n",
    "d_data = df[df['mandata_brand_name'] == 'DIGITAL DAESUNG CO LTD_ALL']\n",
    "m_data = df[df['mandata_brand_name'] == 'MEGASTUDYCO LTD_ALL']"
   ]
  },
  {
   "cell_type": "code",
   "execution_count": 25,
   "id": "df1299ac-7d28-4010-9637-9586635391fe",
   "metadata": {},
   "outputs": [],
   "source": [
    "month_last_dates = d_data.groupby(d_data['transaction_date'].dt.to_period('M')).last()\n",
    "month_last_dates.to_csv('table2_(daesung,mega).csv', index=True)"
   ]
  },
  {
   "cell_type": "code",
   "execution_count": null,
   "id": "9133281b-9e8e-4a74-b1f9-7e98b9583846",
   "metadata": {},
   "outputs": [],
   "source": [
    "# 일별로 수익률을 계산\n",
    "start_date = '2021-02-26'\n",
    "end_date = '2021-11-30'\n",
    "\n",
    "# 시작 날짜부터 끝 날짜까지의 데이터만 선택\n",
    "combined_dm = combined_dm.loc[start_date:end_date]\n",
    "combined_dm = combined_dm.dropna()\n",
    "combined_dm\n",
    "\n",
    "# 각 기업의 일일수익률 계산\n",
    "combined_dm['close_h_return'] = combined_dm['close_h'].pct_change()\n",
    "combined_dm['close_l_return'] = combined_dm['close_l'].pct_change()\n",
    "\n",
    "# 결측값을 이전 값으로 채우기\n",
    "combined_dm['close_h_return'] = combined_dm['close_h_return'].ffill()\n",
    "combined_dm['close_l_return'] = combined_dm['close_l_return'].ffill()\n",
    "\n",
    "# 각 기업의 누적수익률 계산\n",
    "combined_dm['cumulative_h_return'] = (1 + combined_dm['close_h_return']).cumprod() - 1\n",
    "combined_dm['cumulative_l_return'] = (1 + combined_dm['close_l_return']).cumprod() - 1\n",
    "\n",
    "# 수익률의 부호 변경\n",
    "combined_dm['l_return_sell'] = -combined_dm['cumulative_l_return']\n",
    "\n",
    "# close_h_return과 close_l_return을 더한 값을 return 열로 만들기\n",
    "combined_dm['return'] = combined_dm['cumulative_h_return'] + combined_HL['l_return_sell']\n",
    "\n",
    "combined_dm.to_csv('combined_sell_l.csv', index=True)"
   ]
  },
  {
   "cell_type": "code",
   "execution_count": null,
   "id": "6a4fafd7-d6d6-47ca-a102-bf792649a021",
   "metadata": {},
   "outputs": [],
   "source": []
  },
  {
   "cell_type": "code",
   "execution_count": null,
   "id": "115e7e6f-4497-49e7-90ee-b6e7a28d3b68",
   "metadata": {},
   "outputs": [],
   "source": []
  },
  {
   "cell_type": "code",
   "execution_count": null,
   "id": "2e9e2f15-46f4-4507-9529-12d31ba7a555",
   "metadata": {},
   "outputs": [],
   "source": []
  },
  {
   "cell_type": "code",
   "execution_count": null,
   "id": "076fc3eb-c205-43cd-84d0-8b8c672af20b",
   "metadata": {},
   "outputs": [],
   "source": []
  },
  {
   "cell_type": "code",
   "execution_count": null,
   "id": "c5d40ca6-bb0d-4fbe-97bf-aa4f7fba7815",
   "metadata": {},
   "outputs": [],
   "source": []
  },
  {
   "cell_type": "code",
   "execution_count": null,
   "id": "5f6b04f3-78f3-4713-99ae-8e9d989e0236",
   "metadata": {},
   "outputs": [],
   "source": []
  },
  {
   "cell_type": "code",
   "execution_count": null,
   "id": "6ff5fcee-ea91-400f-8770-35111d93f460",
   "metadata": {},
   "outputs": [],
   "source": [
    "import pandas as pd\n",
    "import numpy as np\n",
    "import matplotlib.pyplot as plt\n",
    "\n",
    "nav = pd.read_csv('hl_final.csv')\n",
    "df2 = pd.read_csv('table1.csv')"
   ]
  },
  {
   "cell_type": "code",
   "execution_count": 22,
   "id": "602b0d29-b9db-477d-9159-c9f640f2bc5f",
   "metadata": {},
   "outputs": [],
   "source": [
    "import pandas as pd\n",
    "\n",
    "# 각 파일을 불러와서 데이터프레임으로 저장\n",
    "combined_HL = pd.read_csv('combined_HL.csv')\n",
    "combined_HL2 = pd.read_csv('combined_HL2.csv')\n",
    "combined_HL3 = pd.read_csv('combined_HL3.csv')\n",
    "combined_HL4 = pd.read_csv('combined_HL4.csv')\n",
    "combined_HL5 = pd.read_csv('combined_HL5.csv')\n",
    "combined_HL6 = pd.read_csv('combined_HL6.csv')\n",
    "combined_HL7 = pd.read_csv('combined_HL7.csv')\n",
    "combined_HL8 = pd.read_csv('combined_HL8.csv')\n",
    "combined_HL9 = pd.read_csv('combined_HL9.csv')\n",
    "combined_HL10 = pd.read_csv('combined_HL10.csv')\n",
    "combined_HL11 = pd.read_csv('combined_HL11.csv')\n",
    "combined_HL12 = pd.read_csv('combined_HL12.csv')"
   ]
  },
  {
   "cell_type": "code",
   "execution_count": null,
   "id": "a19f3c6b-afab-4120-838c-484417afcfac",
   "metadata": {},
   "outputs": [],
   "source": []
  },
  {
   "cell_type": "code",
   "execution_count": null,
   "id": "67a601e7-8b7d-4c6d-a6d8-85f1a8cebd14",
   "metadata": {},
   "outputs": [],
   "source": []
  },
  {
   "cell_type": "code",
   "execution_count": null,
   "id": "a30d4b99-5bb8-4b28-b7f6-11897e91cb8a",
   "metadata": {},
   "outputs": [],
   "source": []
  },
  {
   "cell_type": "code",
   "execution_count": null,
   "id": "3deac72c-cbda-4456-99b4-274845befeb3",
   "metadata": {},
   "outputs": [],
   "source": []
  }
 ],
 "metadata": {
  "kernelspec": {
   "display_name": "Python 3 (ipykernel)",
   "language": "python",
   "name": "python3"
  },
  "language_info": {
   "codemirror_mode": {
    "name": "ipython",
    "version": 3
   },
   "file_extension": ".py",
   "mimetype": "text/x-python",
   "name": "python",
   "nbconvert_exporter": "python",
   "pygments_lexer": "ipython3",
   "version": "3.12.1"
  }
 },
 "nbformat": 4,
 "nbformat_minor": 5
}
