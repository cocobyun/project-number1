{
 "cells": [
  {
   "cell_type": "code",
   "execution_count": 3,
   "id": "1b0f23bf-cea2-410b-a048-b1018222e347",
   "metadata": {},
   "outputs": [],
   "source": [
    "import pandas as pd\n",
    "import numpy as np\n",
    "import datetime\n",
    "import matplotlib.pyplot as plt\n",
    "\n",
    "df = pd.read_csv('sales_data_(daesung,mega).csv')\n",
    "#df.set_index('transaction_date', inplace=True)\n",
    "#df3 = pd.read_csv('sales_data_(emart,shinsegae).csv')\n",
    "#df4 = pd.read_csv('sales_data_(hyundai,lotte).csv')"
   ]
  },
  {
   "cell_type": "markdown",
   "id": "16666860-3458-4b7e-9a93-479fbfc33106",
   "metadata": {},
   "source": [
    "카드사 매출을 전년도 매출합 비율과 비교하는 경우\n",
    "(그 다음 연도부터 매매할 수 있습니다)"
   ]
  },
  {
   "cell_type": "code",
   "execution_count": 4,
   "id": "fb3c3cbb-54bc-4c48-9224-b7e128b5343c",
   "metadata": {},
   "outputs": [],
   "source": [
    "#연매출비교\n",
    "dfsaleyear = df.groupby(['year', 'mandata_brand_name'])['sales_all_year'].first().reset_index()\n",
    "total_sales_by_year = dfsaleyear.groupby('year')['sales_all_year'].transform('sum')\n",
    "dfsaleyear['yearly_ratio'] = dfsaleyear['sales_all_year'] / total_sales_by_year\n",
    "yearly_ratio = dfsaleyear.copy()\n",
    "yearly_ratio['year'] += 1\n",
    "\n",
    "#월매출비교\n",
    "dfsalemon = df.groupby(['year', 'mon', 'mandata_brand_name'])['sales_all_month'].sum().reset_index()\n",
    "total_sales_by_mon_year = dfsalemon.groupby(['mon', 'year'])['sales_all_month'].sum()\n",
    "dfsalemon['monthly_ratio'] = dfsalemon.apply(lambda row: row['sales_all_month'] / total_sales_by_mon_year.loc[(row['mon'], row['year'])], axis=1)\n",
    "monthly_ratio = dfsalemon.copy()\n",
    "\n",
    "for i in range(len(monthly_ratio)):\n",
    "    year = monthly_ratio.loc[i, 'year']\n",
    "    mon = monthly_ratio.loc[i, 'mon']\n",
    "    name = monthly_ratio.loc[i, 'mandata_brand_name']\n",
    "    \n",
    "    # 연도와 월, 그리고 기업에 해당하는 연도별 비율을 가져옵니다.\n",
    "    yearly_ratio_value = yearly_ratio[(yearly_ratio['year'] == year) & (yearly_ratio['mandata_brand_name'] == name)]['yearly_ratio'].values\n",
    "    # 연도와 월, 그리고 기업에 해당하는 월별 비율을 가져옵니다.\n",
    "    monthly_ratio_value = monthly_ratio[(monthly_ratio['year'] == year) & (monthly_ratio['mon'] == mon) & (monthly_ratio['mandata_brand_name'] == name)]['monthly_ratio'].values\n",
    "    \n",
    "    # 연도별 비율과 월별 비율이 모두 존재하는지 확인\n",
    "    if yearly_ratio_value.size > 0 and monthly_ratio_value.size > 0:\n",
    "        # 월별 비율이 연도별 비율보다 높으면 매수\n",
    "        if monthly_ratio_value[0] > yearly_ratio_value[0]:\n",
    "            monthly_ratio.loc[i, 'active'] = 'buy'\n",
    "        # 월별 비율이 연도별 비율보다 낮으면 매도\n",
    "        elif monthly_ratio_value[0] < yearly_ratio_value[0]:\n",
    "            monthly_ratio.loc[i, 'active'] = 'sell'\n",
    "        # 비율이 같으면 보유\n",
    "        else:\n",
    "            monthly_ratio.loc[i, 'active'] = 'hold'\n",
    "    else:\n",
    "        # 데이터가 없는 경우\n",
    "        monthly_ratio.loc[i, 'active'] = 'no data'\n",
    "\n",
    "monthly_ratio.to_csv('monthly_active_(daesung,mega).csv', index=False)"
   ]
  },
  {
   "cell_type": "code",
   "execution_count": 5,
   "id": "757144d5-3b9f-438a-9355-c35519a1b054",
   "metadata": {},
   "outputs": [],
   "source": [
    "monthly_ratio = pd.read_csv('monthly_active_(daesung,mega).csv')\n",
    "\n",
    "monthly_ratio = monthly_ratio[monthly_ratio['active'] != 'no data']\n",
    "sell_previous = monthly_ratio[monthly_ratio['active'] == 'buy']\n",
    "sell_current = monthly_ratio[monthly_ratio['active'] == 'sell']\n",
    "merged = sell_current.merge(sell_previous, how='outer', indicator=True)\n",
    "changed_rows = merged[merged['_merge'] == 'right_only']\n",
    "changed_rows = changed_rows.drop(columns=['_merge'])\n",
    "\n",
    "changed_rows.to_csv('table_(daesung,mega).csv', index=False)"
   ]
  },
  {
   "cell_type": "code",
   "execution_count": null,
   "id": "ac24dc8f-3713-4915-bd8e-5a88010a013e",
   "metadata": {},
   "outputs": [],
   "source": []
  },
  {
   "cell_type": "code",
   "execution_count": null,
   "id": "1300ee08-4dc7-4a11-bff9-42ca5840b8a1",
   "metadata": {},
   "outputs": [],
   "source": []
  },
  {
   "cell_type": "code",
   "execution_count": 36,
   "id": "17c443fd-28bd-4a95-8b0c-e5b7e62e88e3",
   "metadata": {},
   "outputs": [],
   "source": [
    "#연매출비교\n",
    "dfsaleyear = df4.groupby(['year', 'mandata_brand_name'])['sales_all_year'].first().reset_index()\n",
    "total_sales_by_year = dfsaleyear.groupby('year')['sales_all_year'].transform('sum')\n",
    "dfsaleyear['yearly_ratio'] = dfsaleyear['sales_all_year'] / total_sales_by_year\n",
    "yearly_ratio = dfsaleyear.copy()\n",
    "yearly_ratio['year'] += 1\n",
    "\n",
    "#월매출비교\n",
    "dfsalemon = df4.groupby(['year', 'mon', 'mandata_brand_name'])['sales_all_month'].sum().reset_index()\n",
    "total_sales_by_mon_year = dfsalemon.groupby(['mon', 'year'])['sales_all_month'].sum()\n",
    "dfsalemon['monthly_ratio'] = dfsalemon.apply(lambda row: row['sales_all_month'] / total_sales_by_mon_year.loc[(row['mon'], row['year'])], axis=1)\n",
    "monthly_ratio = dfsalemon.copy()\n",
    "\n",
    "for i in range(len(monthly_ratio)):\n",
    "    year = monthly_ratio.loc[i, 'year']\n",
    "    mon = monthly_ratio.loc[i, 'mon']\n",
    "    name = monthly_ratio.loc[i, 'mandata_brand_name']\n",
    "    \n",
    "    # 연도와 월, 그리고 기업에 해당하는 연도별 비율을 가져옵니다.\n",
    "    yearly_ratio_value = yearly_ratio[(yearly_ratio['year'] == year) & (yearly_ratio['mandata_brand_name'] == name)]['yearly_ratio'].values\n",
    "    # 연도와 월, 그리고 기업에 해당하는 월별 비율을 가져옵니다.\n",
    "    monthly_ratio_value = monthly_ratio[(monthly_ratio['year'] == year) & (monthly_ratio['mon'] == mon) & (monthly_ratio['mandata_brand_name'] == name)]['monthly_ratio'].values\n",
    "    \n",
    "    # 연도별 비율과 월별 비율이 모두 존재하는지 확인\n",
    "    if yearly_ratio_value.size > 0 and monthly_ratio_value.size > 0:\n",
    "        # 월별 비율이 연도별 비율보다 높으면 매수\n",
    "        if monthly_ratio_value[0] > yearly_ratio_value[0]:\n",
    "            monthly_ratio.loc[i, 'active'] = 'buy'\n",
    "        # 월별 비율이 연도별 비율보다 낮으면 매도\n",
    "        elif monthly_ratio_value[0] < yearly_ratio_value[0]:\n",
    "            monthly_ratio.loc[i, 'active'] = 'sell'\n",
    "        # 비율이 같으면 보유\n",
    "        else:\n",
    "            monthly_ratio.loc[i, 'active'] = 'hold'\n",
    "    else:\n",
    "        # 데이터가 없는 경우\n",
    "        monthly_ratio.loc[i, 'active'] = 'no data'\n",
    "\n",
    "      \n",
    "monthly_ratio.to_csv('monthly_active_(hyundai,lotte).csv', index=False)"
   ]
  },
  {
   "cell_type": "code",
   "execution_count": 37,
   "id": "120a8d66-fe76-49f3-9e93-3d8444172883",
   "metadata": {},
   "outputs": [],
   "source": [
    "monthly_ratio1 = pd.read_csv('monthly_active_(hyundai,lotte).csv')\n",
    "\n",
    "monthly_ratio1 = monthly_ratio1[monthly_ratio1['active'] != 'no data']\n",
    "sell_previous = monthly_ratio1[monthly_ratio1['active'] == 'buy']\n",
    "sell_current = monthly_ratio1[monthly_ratio1['active'] == 'sell']\n",
    "merged = sell_current.merge(sell_previous, how='outer', indicator=True)\n",
    "changed_rows1 = merged[merged['_merge'] == 'right_only']\n",
    "changed_rows1 = changed_rows1.drop(columns=['_merge'])\n",
    "\n",
    "changed_rows1.to_csv('table_(hyundai,lotte).csv', index=False)"
   ]
  },
  {
   "cell_type": "markdown",
   "id": "28bcf179-ca1a-4c6b-b28b-9be0864cc48c",
   "metadata": {},
   "source": []
  },
  {
   "cell_type": "markdown",
   "id": "7eaa9647-248f-4815-924e-b5894b01e0e5",
   "metadata": {},
   "source": []
  },
  {
   "cell_type": "markdown",
   "id": "fa3edd12-ff27-4f59-bc84-3b38dc72ec42",
   "metadata": {},
   "source": [
    "별도 제무재표 기준으로 하는 경우\n",
    "(sales_all_year을 전년도 별도 재무제표 연매출로 고치기)"
   ]
  },
  {
   "cell_type": "code",
   "execution_count": 38,
   "id": "8a163e7d-e274-4540-a42d-62c97c6a4b17",
   "metadata": {},
   "outputs": [],
   "source": [
    "#연매출비교\n",
    "dfsaleyear = df3.groupby(['year', 'mandata_brand_name'])['sales_all_year'].first().reset_index()\n",
    "total_sales_by_year = dfsaleyear.groupby('year')['sales_all_year'].transform('sum')\n",
    "dfsaleyear['yearly_ratio'] = dfsaleyear['sales_all_year'] / total_sales_by_year\n",
    "yearly_ratio = dfsaleyear.copy()\n",
    "\n",
    "#월매출비교\n",
    "dfsalemon = df3.groupby(['year', 'mon', 'mandata_brand_name'])['sales_all_month'].sum().reset_index()\n",
    "total_sales_by_mon_year = dfsalemon.groupby(['mon', 'year'])['sales_all_month'].sum()\n",
    "dfsalemon['monthly_ratio'] = dfsalemon.apply(lambda row: row['sales_all_month'] / total_sales_by_mon_year.loc[(row['mon'], row['year'])], axis=1)\n",
    "monthly_ratio = dfsalemon.copy()\n",
    "\n",
    "for i in range(len(monthly_ratio)):\n",
    "    year = monthly_ratio.loc[i, 'year']\n",
    "    mon = monthly_ratio.loc[i, 'mon']\n",
    "    name = monthly_ratio.loc[i, 'mandata_brand_name']\n",
    "    \n",
    "    # 연도와 월, 그리고 기업에 해당하는 연도별 비율을 가져옵니다.\n",
    "    yearly_ratio_value = yearly_ratio[(yearly_ratio['year'] == year) & (yearly_ratio['mandata_brand_name'] == name)]['yearly_ratio'].values\n",
    "    # 연도와 월, 그리고 기업에 해당하는 월별 비율을 가져옵니다.\n",
    "    monthly_ratio_value = monthly_ratio[(monthly_ratio['year'] == year) & (monthly_ratio['mon'] == mon) & (monthly_ratio['mandata_brand_name'] == name)]['monthly_ratio'].values\n",
    "    \n",
    "    # 연도별 비율과 월별 비율이 모두 존재하는지 확인\n",
    "    if yearly_ratio_value.size > 0 and monthly_ratio_value.size > 0:\n",
    "        # 월별 비율이 연도별 비율보다 높으면 매수\n",
    "        if monthly_ratio_value[0] > yearly_ratio_value[0]:\n",
    "            monthly_ratio.loc[i, 'active'] = 'buy'\n",
    "        # 월별 비율이 연도별 비율보다 낮으면 매도\n",
    "        elif monthly_ratio_value[0] < yearly_ratio_value[0]:\n",
    "            monthly_ratio.loc[i, 'active'] = 'sell'\n",
    "        # 비율이 같으면 보유\n",
    "        else:\n",
    "            monthly_ratio.loc[i, 'active'] = 'hold'\n",
    "    else:\n",
    "        # 데이터가 없는 경우\n",
    "        monthly_ratio.loc[i, 'active'] = 'no data'\n",
    "\n",
    "      \n",
    "monthly_ratio.to_csv('monthly_active_(emart,shinsegae).csv', index=False)"
   ]
  },
  {
   "cell_type": "code",
   "execution_count": 39,
   "id": "6a454901-077e-4376-87bf-84a241b7adcf",
   "metadata": {},
   "outputs": [],
   "source": [
    "monthly_ratio2 = pd.read_csv('monthly_active_(emart,shinsegae).csv')\n",
    "\n",
    "monthly_ratio2 = monthly_ratio2[monthly_ratio2['active'] != 'no data']\n",
    "sell_previous = monthly_ratio2[monthly_ratio2['active'] == 'buy']\n",
    "sell_current = monthly_ratio2[monthly_ratio2['active'] == 'sell']\n",
    "merged = sell_current.merge(sell_previous, how='outer', indicator=True)\n",
    "changed_rows2 = merged[merged['_merge'] == 'right_only']\n",
    "changed_rows2 = changed_rows2.drop(columns=['_merge'])\n",
    "\n",
    "changed_rows2.to_csv('table_(emart,shinsegae).csv', index=False)"
   ]
  },
  {
   "cell_type": "code",
   "execution_count": null,
   "id": "84df1ef4-edfc-4518-ae0b-0b756f07cf7a",
   "metadata": {},
   "outputs": [],
   "source": []
  }
 ],
 "metadata": {
  "kernelspec": {
   "display_name": "Python 3 (ipykernel)",
   "language": "python",
   "name": "python3"
  },
  "language_info": {
   "codemirror_mode": {
    "name": "ipython",
    "version": 3
   },
   "file_extension": ".py",
   "mimetype": "text/x-python",
   "name": "python",
   "nbconvert_exporter": "python",
   "pygments_lexer": "ipython3",
   "version": "3.11.7"
  }
 },
 "nbformat": 4,
 "nbformat_minor": 5
}
