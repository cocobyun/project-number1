{
 "cells": [
  {
   "cell_type": "code",
   "execution_count": 1,
   "id": "94dd7e71-ab0a-41e0-abe8-6e8b6d7e9b4a",
   "metadata": {},
   "outputs": [],
   "source": [
    "import pandas as pd\n",
    "import numpy as np\n",
    "import datetime\n",
    "\n",
    "df1 = pd.read_csv('tr_basic_cardl_20210101_20230630.csv') #롯데카드\n",
    "df2 = pd.read_csv('tr_basic_cardh_20190101_20230630.csv') #하나카드\n",
    "df3 = pd.read_csv('LIST_BT.csv') #종목코드\n",
    "\n",
    "lottecard = df1[df1['mandata_brand_name'].isin(['MEGASTUDYCO LTD_ALL', 'DIGITAL DAESUNG CO LTD_ALL'])]\n",
    "hanacard = df2[df2['mandata_brand_name'].isin(['MEGASTUDYCO LTD_ALL', 'DIGITAL DAESUNG CO LTD_ALL'])]\n",
    "card_data = pd.merge(lottecard, hanacard, on=['transaction_date', 'mandata_brand_name'], how='outer')\n",
    "card_data.to_csv('card_data_(daesung,mega).csv', index=False)\n",
    "\n",
    "lottecard = df1[df1['mandata_brand_name'].isin(['HYUNDAI DEPARTMENT STORE CO LTD_ALL', 'LOTTE SHOPPING CO LTD_ALL'])]\n",
    "hanacard = df2[df2['mandata_brand_name'].isin(['HYUNDAI DEPARTMENT STORE CO LTD_ALL', 'LOTTE SHOPPING CO LTD_ALL'])]\n",
    "card_data = pd.merge(lottecard, hanacard, on=['transaction_date', 'mandata_brand_name'], how='outer')\n",
    "card_data.to_csv('card_data_(hyundai,lotte).csv', index=False)\n",
    "\n",
    "lottecard = df1[df1['mandata_brand_name'].isin(['E-MART INC_ALL', 'SHINSEGAE INC_ALL'])]\n",
    "hanacard = df2[df2['mandata_brand_name'].isin(['E-MART INC_ALL', 'SHINSEGAE INC_ALL'])]\n",
    "card_data = pd.merge(lottecard, hanacard, on=['transaction_date', 'mandata_brand_name'], how='outer')\n",
    "card_data.to_csv('card_data_(emart,shinsegae).csv', index=False)"
   ]
  },
  {
   "cell_type": "code",
   "execution_count": null,
   "id": "7ea5732d-e536-406a-bd84-b733637cad73",
   "metadata": {},
   "outputs": [],
   "source": []
  },
  {
   "cell_type": "code",
   "execution_count": null,
   "id": "ba599661-4442-4d4a-843d-9dffa50ac55b",
   "metadata": {},
   "outputs": [],
   "source": []
  },
  {
   "cell_type": "code",
   "execution_count": null,
   "id": "09f095b2-6660-4324-8fb3-0584e528e6e1",
   "metadata": {},
   "outputs": [],
   "source": []
  },
  {
   "cell_type": "code",
   "execution_count": 13,
   "id": "cc32f5c0-caf7-4d71-8eb6-3dbc2ea81aed",
   "metadata": {},
   "outputs": [],
   "source": [
    "#대성 메가스터디\n",
    "\n",
    "data = pd.read_csv('card_data_(daesung,mega).csv', parse_dates=['transaction_date'])\n",
    "data['mon'] = data['transaction_date'].dt.month\n",
    "data['year'] = data['transaction_date'].dt.year\n",
    "monthly_data = data.groupby(['mandata_brand_name', 'year', 'mon']).agg({\n",
    "    'sales_l': 'sum',\n",
    "    'number_l': 'sum',\n",
    "    'users_l': 'sum',\n",
    "    'sales_h': 'sum',\n",
    "    'number_h': 'sum',\n",
    "    'users_h': 'sum'\n",
    "}).reset_index()\n",
    "monthly_data['sales_all_month'] = monthly_data['sales_l'] + monthly_data['sales_h']\n",
    "monthly_data.drop(monthly_data[monthly_data['sales_all_month'] == 0].index, inplace=True)"
   ]
  },
  {
   "cell_type": "code",
   "execution_count": 2,
   "id": "23f64776-84d1-4a07-a583-fbc6613a436c",
   "metadata": {},
   "outputs": [],
   "source": [
    "data = pd.read_csv('card_data_(daesung,mega).csv', parse_dates=['transaction_date'])\n",
    "data['mon'] = data['transaction_date'].dt.month\n",
    "data['year'] = data['transaction_date'].dt.year\n",
    "monthly_data = data.groupby(['mandata_brand_name', 'year', 'mon']).agg({\n",
    "    'sales_l': 'sum',\n",
    "    'number_l': 'sum',\n",
    "    'users_l': 'sum',\n",
    "    'sales_h': 'sum',\n",
    "    'number_h': 'sum',\n",
    "    'users_h': 'sum'\n",
    "}).reset_index()\n",
    "yearly_data = data.groupby(['mandata_brand_name', 'year']).agg({\n",
    "    'sales_l': 'sum',\n",
    "    'number_l': 'sum',\n",
    "    'users_l': 'sum',\n",
    "    'sales_h': 'sum',\n",
    "    'number_h': 'sum',\n",
    "    'users_h': 'sum'\n",
    "}).reset_index()\n",
    "monthly_data['sales_all_month'] = monthly_data['sales_l'] + monthly_data['sales_h']\n",
    "yearly_data['sales_all_year'] = yearly_data['sales_l'] + yearly_data['sales_h']\n",
    "monthly_data = pd.merge(monthly_data, yearly_data[['mandata_brand_name', 'year', 'sales_all_year']], on=['mandata_brand_name', 'year'], how='left', suffixes=('', '_right'))\n",
    "\n",
    "monthly_data.to_csv('sales_data_(daesung,mega).csv', index=False)"
   ]
  },
  {
   "cell_type": "code",
   "execution_count": null,
   "id": "63a386a8-efad-4475-ab90-93149b8911d9",
   "metadata": {},
   "outputs": [],
   "source": []
  },
  {
   "cell_type": "code",
   "execution_count": null,
   "id": "ffabea99-b661-49f4-b04c-f91b0ce9939a",
   "metadata": {},
   "outputs": [],
   "source": []
  },
  {
   "cell_type": "code",
   "execution_count": 2,
   "id": "6aaf5c33-42a6-4a8b-a6c8-4a22990e7f2e",
   "metadata": {},
   "outputs": [],
   "source": [
    "# 롯데는 하나카드만, 현대 롯데\n",
    "\n",
    "data = pd.read_csv('card_data_(hyundai,lotte).csv', parse_dates=['transaction_date'])\n",
    "data['mon'] = data['transaction_date'].dt.month\n",
    "data['year'] = data['transaction_date'].dt.year\n",
    "monthly_data = data.groupby(['mandata_brand_name', 'year', 'mon']).agg({\n",
    "    'sales_l': 'sum',\n",
    "    'number_l': 'sum',\n",
    "    'users_l': 'sum',\n",
    "    'sales_h': 'sum',\n",
    "    'number_h': 'sum',\n",
    "    'users_h': 'sum'\n",
    "}).reset_index()\n",
    "yearly_data = data.groupby(['mandata_brand_name', 'year']).agg({\n",
    "    'sales_l': 'sum',\n",
    "    'number_l': 'sum',\n",
    "    'users_l': 'sum',\n",
    "    'sales_h': 'sum',\n",
    "    'number_h': 'sum',\n",
    "    'users_h': 'sum'\n",
    "}).reset_index()\n",
    "monthly_data['sales_all_month'] =  monthly_data['sales_h']\n",
    "yearly_data['sales_all_year'] = yearly_data['sales_h']\n",
    "monthly_data = pd.merge(monthly_data, yearly_data[['mandata_brand_name', 'year', 'sales_all_year']], on=['mandata_brand_name', 'year'], how='left', suffixes=('', '_right'))\n",
    "\n",
    "monthly_data.to_csv('sales_data_(hyundai,lotte).csv', index=False)"
   ]
  },
  {
   "cell_type": "code",
   "execution_count": null,
   "id": "bfcf36cc-1249-4619-b090-a5d6436cc939",
   "metadata": {},
   "outputs": [],
   "source": []
  },
  {
   "cell_type": "code",
   "execution_count": null,
   "id": "772ca8bc-707a-452c-8467-cfce2c685352",
   "metadata": {},
   "outputs": [],
   "source": []
  },
  {
   "cell_type": "code",
   "execution_count": null,
   "id": "b007be86-7c95-4bd2-a13a-1151bc23f3aa",
   "metadata": {},
   "outputs": [],
   "source": []
  },
  {
   "cell_type": "code",
   "execution_count": null,
   "id": "3e410aac-4a0f-48e4-97fd-a18faa1260f4",
   "metadata": {},
   "outputs": [],
   "source": []
  },
  {
   "cell_type": "code",
   "execution_count": 4,
   "id": "f8edb69a-cc34-4d7c-95e4-eefd149e25f5",
   "metadata": {},
   "outputs": [],
   "source": [
    "# 이마트 신세계 = 제무제표\n",
    "\n",
    "data = pd.read_csv('card_data_(emart,shinsegae).csv', parse_dates=['transaction_date'])\n",
    "data['mon'] = data['transaction_date'].dt.month\n",
    "data['year'] = data['transaction_date'].dt.year\n",
    "monthly_data = data.groupby(['mandata_brand_name', 'year', 'mon']).agg({\n",
    "    'sales_l': 'sum',\n",
    "    'number_l': 'sum',\n",
    "    'users_l': 'sum',\n",
    "    'sales_h': 'sum',\n",
    "    'number_h': 'sum',\n",
    "    'users_h': 'sum'\n",
    "}).reset_index()\n",
    "yearly_data = data.groupby(['mandata_brand_name', 'year']).agg({\n",
    "    'sales_l': 'sum',\n",
    "    'number_l': 'sum',\n",
    "    'users_l': 'sum',\n",
    "    'sales_h': 'sum',\n",
    "    'number_h': 'sum',\n",
    "    'users_h': 'sum'\n",
    "}).reset_index()\n",
    "monthly_data['sales_all_month'] = monthly_data['sales_l'] + monthly_data['sales_h']\n",
    "yearly_data['sales_all_year'] = yearly_data['sales_l'] + yearly_data['sales_h']\n",
    "monthly_data = pd.merge(monthly_data, yearly_data[['mandata_brand_name', 'year', 'sales_all_year']], on=['mandata_brand_name', 'year'], how='left', suffixes=('', '_right'))\n",
    "\n",
    "monthly_data.to_csv('sales_data_(emart,shinsegae).csv', index=False)"
   ]
  },
  {
   "cell_type": "code",
   "execution_count": null,
   "id": "46b812d1-039b-44c8-8a65-f364ea4129b1",
   "metadata": {},
   "outputs": [],
   "source": []
  }
 ],
 "metadata": {
  "kernelspec": {
   "display_name": "Python 3 (ipykernel)",
   "language": "python",
   "name": "python3"
  },
  "language_info": {
   "codemirror_mode": {
    "name": "ipython",
    "version": 3
   },
   "file_extension": ".py",
   "mimetype": "text/x-python",
   "name": "python",
   "nbconvert_exporter": "python",
   "pygments_lexer": "ipython3",
   "version": "3.11.7"
  }
 },
 "nbformat": 4,
 "nbformat_minor": 5
}
