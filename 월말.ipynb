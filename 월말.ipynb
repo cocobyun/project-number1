{
 "cells": [
  {
   "cell_type": "code",
   "execution_count": null,
   "id": "cdbb09c5-2c2d-4c13-b33d-af4e8a85b4ae",
   "metadata": {},
   "outputs": [],
   "source": [
    "# CSV 파일 읽기\n",
    "a = pd.read_csv('stock_data_(hyundai,shinsegae).csv')\n",
    "\n",
    "# transaction_date를 날짜형으로 변환\n",
    "a['transaction_date'] = pd.to_datetime(a['transaction_date'])\n",
    "\n",
    "# 월별로 그룹화한 후, 각 그룹의 마지막 날짜 선택\n",
    "month_last_dates = a.groupby(a['transaction_date'].dt.to_period('M')).last()\n",
    "month_last_dates"
   ]
  }
 ],
 "metadata": {
  "kernelspec": {
   "display_name": "Python 3 (ipykernel)",
   "language": "python",
   "name": "python3"
  },
  "language_info": {
   "codemirror_mode": {
    "name": "ipython",
    "version": 3
   },
   "file_extension": ".py",
   "mimetype": "text/x-python",
   "name": "python",
   "nbconvert_exporter": "python",
   "pygments_lexer": "ipython3",
   "version": "3.11.7"
  }
 },
 "nbformat": 4,
 "nbformat_minor": 5
}
