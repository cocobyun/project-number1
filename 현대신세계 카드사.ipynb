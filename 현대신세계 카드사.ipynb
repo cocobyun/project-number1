{
 "cells": [
  {
   "cell_type": "code",
   "execution_count": 1,
   "id": "0632bc38-03d0-4193-9bc0-c579fb5cd3e6",
   "metadata": {},
   "outputs": [],
   "source": [
    "import pandas as pd\n",
    "import numpy as np\n",
    "import datetime\n",
    "import matplotlib.pyplot as plt\n",
    "import FinanceDataReader as fdr\n",
    "\n",
    "df1 = pd.read_csv('tr_basic_cardl_20210101_20230630.csv') #롯데카드\n",
    "df2 = pd.read_csv('tr_basic_cardh_20190101_20230630.csv') #하나카드\n",
    "df3 = pd.read_csv('LIST_BT.csv') #종목코드\n",
    "\n",
    "lottecard = df1[df1['mandata_brand_name'].isin(['HYUNDAI DEPARTMENT STORE CO LTD_ALL', 'SHINSEGAE INC_ALL'])]\n",
    "hanacard = df2[df2['mandata_brand_name'].isin(['HYUNDAI DEPARTMENT STORE CO LTD_ALL', 'SHINSEGAE INC_ALL'])]\n",
    "card_data = pd.merge(lottecard, hanacard, on=['transaction_date', 'mandata_brand_name'], how='outer')\n",
    "card_data.to_csv('card_data_(hyundai,shinsegae).csv', index=False)"
   ]
  },
  {
   "cell_type": "code",
   "execution_count": 2,
   "id": "088e0b82-c694-43e7-99f5-082091f842a1",
   "metadata": {},
   "outputs": [],
   "source": [
    "data = pd.read_csv('card_data_(hyundai,shinsegae).csv', parse_dates=['transaction_date'])\n",
    "data['mon'] = data['transaction_date'].dt.month\n",
    "data['year'] = data['transaction_date'].dt.year\n",
    "monthly_data = data.groupby(['mandata_brand_name', 'year', 'mon']).agg({\n",
    "    'sales_l': 'sum',\n",
    "    'number_l': 'sum',\n",
    "    'users_l': 'sum',\n",
    "    'sales_h': 'sum',\n",
    "    'number_h': 'sum',\n",
    "    'users_h': 'sum'\n",
    "}).reset_index()\n",
    "yearly_data = data.groupby(['mandata_brand_name', 'year']).agg({\n",
    "    'sales_l': 'sum',\n",
    "    'number_l': 'sum',\n",
    "    'users_l': 'sum',\n",
    "    'sales_h': 'sum',\n",
    "    'number_h': 'sum',\n",
    "    'users_h': 'sum'\n",
    "}).reset_index()\n",
    "monthly_data['sales_all_month'] = monthly_data['sales_l'] + monthly_data['sales_h']\n",
    "# monthly_data['sales_all_month'] = monthly_data['sales_h']\n",
    "yearly_data['sales_all_year'] = yearly_data['sales_l'] + yearly_data['sales_h']\n",
    "# yearly_data['sales_all_year'] = yearly_data['sales_h']\n",
    "monthly_data = pd.merge(monthly_data, yearly_data[['mandata_brand_name', 'year', 'sales_all_year']], on=['mandata_brand_name', 'year'], how='left', suffixes=('', '_right'))\n",
    "\n",
    "monthly_data.to_csv('sales_data_(hyundai,shinsegae).csv', index=False)"
   ]
  },
  {
   "cell_type": "code",
   "execution_count": 3,
   "id": "cbf4955f-577c-4311-be11-3ab8ff6abf2e",
   "metadata": {},
   "outputs": [],
   "source": [
    "h_close = pd.read_csv('h_close.csv', parse_dates=['transaction_date'])\n",
    "s_close = pd.read_csv('s_close.csv', parse_dates=['transaction_date'])\n",
    "close_hs = pd.merge(h_close, s_close[['transaction_date', 'Close']], on='transaction_date', how='left', suffixes=('_h', '_s'))\n",
    "close_hs.to_csv('stock_data_(hyundai,shinsegae).csv', index=False)"
   ]
  },
  {
   "cell_type": "code",
   "execution_count": 4,
   "id": "fd73b673-bcba-4ccb-9cd6-2378ec6edc3b",
   "metadata": {},
   "outputs": [],
   "source": [
    "df = pd.read_csv('sales_data_(hyundai,shinsegae).csv')\n",
    "\n",
    "#연매출비교\n",
    "dfsaleyear = df.groupby(['year', 'mandata_brand_name'])['sales_all_year'].first().reset_index()\n",
    "total_sales_by_year = dfsaleyear.groupby('year')['sales_all_year'].transform('sum')\n",
    "dfsaleyear['yearly_ratio'] = dfsaleyear['sales_all_year'] / total_sales_by_year\n",
    "yearly_ratio = dfsaleyear.copy()\n",
    "yearly_ratio['year'] += 1\n",
    "\n",
    "#월매출비교\n",
    "dfsalemon = df.groupby(['year', 'mon', 'mandata_brand_name'])['sales_all_month'].sum().reset_index()\n",
    "total_sales_by_mon_year = dfsalemon.groupby(['mon', 'year'])['sales_all_month'].sum()\n",
    "dfsalemon['monthly_ratio'] = dfsalemon.apply(lambda row: row['sales_all_month'] / total_sales_by_mon_year.loc[(row['mon'], row['year'])], axis=1)\n",
    "monthly_ratio = dfsalemon.copy()\n",
    "\n",
    "for i in range(len(monthly_ratio)):\n",
    "    year = monthly_ratio.loc[i, 'year']\n",
    "    mon = monthly_ratio.loc[i, 'mon']\n",
    "    name = monthly_ratio.loc[i, 'mandata_brand_name']\n",
    "    \n",
    "    yearly_ratio_value = yearly_ratio[(yearly_ratio['year'] == year) & (yearly_ratio['mandata_brand_name'] == name)]['yearly_ratio'].values\n",
    "    monthly_ratio_value = monthly_ratio[(monthly_ratio['year'] == year) & (monthly_ratio['mon'] == mon) & (monthly_ratio['mandata_brand_name'] == name)]['monthly_ratio'].values\n",
    "\n",
    "    if yearly_ratio_value.size > 0 and monthly_ratio_value.size > 0:\n",
    "        if monthly_ratio_value[0] > yearly_ratio_value[0]:\n",
    "            monthly_ratio.loc[i, 'active'] = 'buy'\n",
    "        elif monthly_ratio_value[0] < yearly_ratio_value[0]:\n",
    "            monthly_ratio.loc[i, 'active'] = 'sell'\n",
    "        else:\n",
    "            monthly_ratio.loc[i, 'active'] = 'hold'\n",
    "    else:\n",
    "        monthly_ratio.loc[i, 'active'] = 'no data'\n",
    "\n",
    "monthly_ratio.to_csv('monthly_active_(hyundai,shinsegae).csv', index=False)\n",
    "\n",
    "monthly_ratio = monthly_ratio[monthly_ratio['active'] != 'no data']\n",
    "sell_previous = monthly_ratio[monthly_ratio['active'] == 'buy']\n",
    "sell_current = monthly_ratio[monthly_ratio['active'] == 'sell']\n",
    "merged = sell_current.merge(sell_previous, how='outer', indicator=True)\n",
    "changed_rows = merged[merged['_merge'] == 'right_only']\n",
    "changed_rows = changed_rows.drop(columns=['_merge'])\n",
    "\n",
    "changed_rows.to_csv('table_(hyundai,shinsegae).csv', index=True)"
   ]
  },
  {
   "cell_type": "code",
   "execution_count": 5,
   "id": "c783d579-d0d3-4010-9a15-218852dbc8db",
   "metadata": {},
   "outputs": [
    {
     "name": "stdout",
     "output_type": "stream",
     "text": [
      "신세계 롱 누적수익률: -11.61048689138573\n",
      "현대백화점 숏 누적수익률: 9.102564102564104\n",
      "매매 누적수익률: -2.507922788821626\n"
     ]
    }
   ],
   "source": [
    "close_hs = pd.read_csv('stock_data_(hyundai,shinsegae).csv', index_col='transaction_date', parse_dates=True)\n",
    "\n",
    "start_date = '2020-01-31'\n",
    "end_date = '2020-02-28'\n",
    "\n",
    "sell_h = close_hs.loc[start_date:end_date].copy()  # 복사본 생성\n",
    "sell_h.loc[:, 'close_h_return'] = sell_h['Close_h'].pct_change()\n",
    "sell_h.loc[:, 'close_s_return'] = sell_h['Close_s'].pct_change()\n",
    "sell_h.loc[:, 'close_h_return'] = sell_h['close_h_return'].ffill()\n",
    "sell_h.loc[:, 'close_s_return'] = sell_h['close_s_return'].ffill()\n",
    "sell_h.loc[:, 'cumulative_h_return'] = (1 + sell_h['close_h_return']).cumprod() - 1\n",
    "sell_h.loc[:, 'cumulative_s_return'] = (1 + sell_h['close_s_return']).cumprod() - 1\n",
    "sell_h.loc[:, 'h_return_sell'] = -sell_h['cumulative_h_return']\n",
    "\n",
    "sell_h.loc[:, 'return'] = sell_h['cumulative_s_return'] + sell_h['h_return_sell']\n",
    "sell_h.to_csv('close_hs1.csv', index=True)\n",
    "\n",
    "print(\"신세계 롱 누적수익률:\", sell_h['cumulative_s_return'].iloc[-1]*100)\n",
    "print(\"현대백화점 숏 누적수익률:\", sell_h['h_return_sell'].iloc[-1]*100)\n",
    "return1 = sell_h['return'].iloc[-1]  # 매매 누적수익률\n",
    "print(\"매매 누적수익률:\", return1*100)"
   ]
  },
  {
   "cell_type": "code",
   "execution_count": 6,
   "id": "14f11af0-072b-40d4-be77-bc3a5d9f7de3",
   "metadata": {},
   "outputs": [
    {
     "name": "stdout",
     "output_type": "stream",
     "text": [
      "신세계 숏 누적수익률: 1.0593220338983134\n",
      "현대백화점 롱 누적수익률: 10.296191819463951\n",
      "매매 누적수익률: 8.847591064540639\n"
     ]
    }
   ],
   "source": [
    "start_date = '2020-02-28'\n",
    "end_date ='2021-01-29'\n",
    "\n",
    "sell_s = close_hs.loc[start_date:end_date].copy()\n",
    "\n",
    "sell_s.loc[:, 'close_h_return'] = sell_s['Close_h'].pct_change()\n",
    "sell_s.loc[:, 'close_s_return'] = sell_s['Close_s'].pct_change()\n",
    "sell_s.loc[:, 'close_h_return'] = sell_s['close_h_return'].ffill()\n",
    "sell_s.loc[:, 'close_s_return'] = sell_s['close_s_return'].ffill()\n",
    "sell_s.loc[:, 'cumulative_h_return'] = (1 + sell_s['close_h_return']).cumprod() - 1\n",
    "sell_s.loc[:, 'cumulative_s_return'] = (1 + sell_s['close_s_return']).cumprod() - 1\n",
    "sell_s.loc[:, 's_return_sell'] = -sell_s['cumulative_s_return']\n",
    "sell_s.loc[:, 'return'] = sell_s['cumulative_h_return'] + sell_s['s_return_sell'] + return1\n",
    "sell_s.to_csv('close_hs2.csv', index=True)\n",
    "\n",
    "print(\"신세계 숏 누적수익률:\", sell_s['s_return_sell'].iloc[-1]*100)\n",
    "print(\"현대백화점 롱 누적수익률:\", sell_s['cumulative_h_return'].iloc[-1]*100)\n",
    "print(\"매매 누적수익률:\", sell_s['return'].iloc[-1]*100)\n",
    "return1 = sell_s['return'].iloc[-1]  # 매매 누적수익률"
   ]
  },
  {
   "cell_type": "code",
   "execution_count": 7,
   "id": "5f154a70-fd33-4a18-b3eb-afcc51cbd444",
   "metadata": {},
   "outputs": [
    {
     "name": "stdout",
     "output_type": "stream",
     "text": [
      "신세계 롱 누적수익률: 20.342612419700213\n",
      "현대백화점 숏 누적수익률: -15.984654731457892\n",
      "매매 누적수익률: 13.205548752782958\n"
     ]
    }
   ],
   "source": [
    "start_date = end_date\n",
    "end_date = '2021-03-31'\n",
    "\n",
    "sell_h = close_hs.loc[start_date:end_date].copy()  # 복사본 생성\n",
    "sell_h.loc[:, 'close_h_return'] = sell_h['Close_h'].pct_change()\n",
    "sell_h.loc[:, 'close_s_return'] = sell_h['Close_s'].pct_change()\n",
    "sell_h.loc[:, 'close_h_return'] = sell_h['close_h_return'].ffill()\n",
    "sell_h.loc[:, 'close_s_return'] = sell_h['close_s_return'].ffill()\n",
    "sell_h.loc[:, 'cumulative_h_return'] = (1 + sell_h['close_h_return']).cumprod() - 1\n",
    "sell_h.loc[:, 'cumulative_s_return'] = (1 + sell_h['close_s_return']).cumprod() - 1\n",
    "sell_h.loc[:, 'h_return_sell'] = -sell_h['cumulative_h_return']\n",
    "\n",
    "sell_h.loc[:, 'return'] = sell_h['cumulative_s_return'] + sell_h['h_return_sell'] + return1\n",
    "sell_h.to_csv('close_hs3.csv', index=True)\n",
    "\n",
    "print(\"신세계 롱 누적수익률:\", sell_h['cumulative_s_return'].iloc[-1]*100)\n",
    "print(\"현대백화점 숏 누적수익률:\", sell_h['h_return_sell'].iloc[-1]*100)\n",
    "return1 = sell_h['return'].iloc[-1]  # 매매 누적수익률\n",
    "print(\"매매 누적수익률:\", return1*100)"
   ]
  },
  {
   "cell_type": "code",
   "execution_count": 8,
   "id": "7427f0bc-7c4e-428d-902b-104e23ce61d4",
   "metadata": {},
   "outputs": [
    {
     "name": "stdout",
     "output_type": "stream",
     "text": [
      "신세계 숏 누적수익률: 4.270462633451954\n",
      "현대백화점 롱 누적수익률: -10.915104740903992\n",
      "매매 누적수익률: 6.560906645330922\n"
     ]
    }
   ],
   "source": [
    "start_date = end_date\n",
    "end_date ='2021-08-31'\n",
    "\n",
    "sell_s = close_hs.loc[start_date:end_date].copy()\n",
    "\n",
    "sell_s.loc[:, 'close_h_return'] = sell_s['Close_h'].pct_change()\n",
    "sell_s.loc[:, 'close_s_return'] = sell_s['Close_s'].pct_change()\n",
    "sell_s.loc[:, 'close_h_return'] = sell_s['close_h_return'].ffill()\n",
    "sell_s.loc[:, 'close_s_return'] = sell_s['close_s_return'].ffill()\n",
    "sell_s.loc[:, 'cumulative_h_return'] = (1 + sell_s['close_h_return']).cumprod() - 1\n",
    "sell_s.loc[:, 'cumulative_s_return'] = (1 + sell_s['close_s_return']).cumprod() - 1\n",
    "sell_s.loc[:, 's_return_sell'] = -sell_s['cumulative_s_return']\n",
    "sell_s.loc[:, 'return'] = sell_s['cumulative_h_return'] + sell_s['s_return_sell'] + return1\n",
    "sell_s.to_csv('close_hs4.csv', index=True)\n",
    "\n",
    "print(\"신세계 숏 누적수익률:\", sell_s['s_return_sell'].iloc[-1]*100)\n",
    "print(\"현대백화점 롱 누적수익률:\", sell_s['cumulative_h_return'].iloc[-1]*100)\n",
    "print(\"매매 누적수익률:\", sell_s['return'].iloc[-1]*100)\n",
    "return1 = sell_s['return'].iloc[-1]  # 매매 누적수익률"
   ]
  },
  {
   "cell_type": "code",
   "execution_count": 9,
   "id": "5e669fa9-8cfc-4768-9545-129c5cd72d29",
   "metadata": {},
   "outputs": [
    {
     "name": "stdout",
     "output_type": "stream",
     "text": [
      "신세계 롱 누적수익률: -7.806691449814174\n",
      "현대백화점 숏 누적수익률: -2.4752475247524997\n",
      "매매 누적수익률: -3.7210323292357517\n"
     ]
    }
   ],
   "source": [
    "start_date = end_date\n",
    "end_date = '2021-10-29'\n",
    "\n",
    "sell_h = close_hs.loc[start_date:end_date].copy()  # 복사본 생성\n",
    "sell_h.loc[:, 'close_h_return'] = sell_h['Close_h'].pct_change()\n",
    "sell_h.loc[:, 'close_s_return'] = sell_h['Close_s'].pct_change()\n",
    "sell_h.loc[:, 'close_h_return'] = sell_h['close_h_return'].ffill()\n",
    "sell_h.loc[:, 'close_s_return'] = sell_h['close_s_return'].ffill()\n",
    "sell_h.loc[:, 'cumulative_h_return'] = (1 + sell_h['close_h_return']).cumprod() - 1\n",
    "sell_h.loc[:, 'cumulative_s_return'] = (1 + sell_h['close_s_return']).cumprod() - 1\n",
    "sell_h.loc[:, 'h_return_sell'] = -sell_h['cumulative_h_return']\n",
    "\n",
    "sell_h.loc[:, 'return'] = sell_h['cumulative_s_return'] + sell_h['h_return_sell'] + return1\n",
    "sell_h.to_csv('close_hs5.csv', index=True)\n",
    "\n",
    "print(\"신세계 롱 누적수익률:\", sell_h['cumulative_s_return'].iloc[-1]*100)\n",
    "print(\"현대백화점 숏 누적수익률:\", sell_h['h_return_sell'].iloc[-1]*100)\n",
    "return1 = sell_h['return'].iloc[-1]  # 매매 누적수익률\n",
    "print(\"매매 누적수익률:\", return1*100)"
   ]
  },
  {
   "cell_type": "code",
   "execution_count": 10,
   "id": "7faabb83-6c28-443e-9bf8-cd36ccbbb7ae",
   "metadata": {},
   "outputs": [
    {
     "name": "stdout",
     "output_type": "stream",
     "text": [
      "신세계 숏 누적수익률: -2.419354838709742\n",
      "현대백화점 롱 누적수익률: -9.299516908212603\n",
      "매매 누적수익률: -15.439904076158095\n"
     ]
    }
   ],
   "source": [
    "start_date = end_date\n",
    "end_date ='2021-12-30'\n",
    "sell_s = close_hs.loc[start_date:end_date].copy()\n",
    "\n",
    "sell_s.loc[:, 'close_h_return'] = sell_s['Close_h'].pct_change()\n",
    "sell_s.loc[:, 'close_s_return'] = sell_s['Close_s'].pct_change()\n",
    "sell_s.loc[:, 'close_h_return'] = sell_s['close_h_return'].ffill()\n",
    "sell_s.loc[:, 'close_s_return'] = sell_s['close_s_return'].ffill()\n",
    "sell_s.loc[:, 'cumulative_h_return'] = (1 + sell_s['close_h_return']).cumprod() - 1\n",
    "sell_s.loc[:, 'cumulative_s_return'] = (1 + sell_s['close_s_return']).cumprod() - 1\n",
    "sell_s.loc[:, 's_return_sell'] = -sell_s['cumulative_s_return']\n",
    "sell_s.loc[:, 'return'] = sell_s['cumulative_h_return'] + sell_s['s_return_sell'] + return1\n",
    "sell_s.to_csv('close_hs6.csv', index=True)\n",
    "\n",
    "print(\"신세계 숏 누적수익률:\", sell_s['s_return_sell'].iloc[-1]*100)\n",
    "print(\"현대백화점 롱 누적수익률:\", sell_s['cumulative_h_return'].iloc[-1]*100)\n",
    "print(\"매매 누적수익률:\", sell_s['return'].iloc[-1]*100)\n",
    "return1 = sell_s['return'].iloc[-1]  # 매매 누적수익률"
   ]
  },
  {
   "cell_type": "code",
   "execution_count": 11,
   "id": "05c24d01-c7b1-4f4c-b03c-03df8fb3420d",
   "metadata": {},
   "outputs": [
    {
     "name": "stdout",
     "output_type": "stream",
     "text": [
      "신세계 롱 누적수익률: -19.685039370078538\n",
      "현대백화점 숏 누적수익률: 27.696404793608576\n",
      "매매 누적수익률: -7.428538652628058\n"
     ]
    }
   ],
   "source": [
    "start_date = end_date\n",
    "end_date = '2023-02-28'\n",
    "\n",
    "sell_h = close_hs.loc[start_date:end_date].copy()  # 복사본 생성\n",
    "sell_h.loc[:, 'close_h_return'] = sell_h['Close_h'].pct_change()\n",
    "sell_h.loc[:, 'close_s_return'] = sell_h['Close_s'].pct_change()\n",
    "sell_h.loc[:, 'close_h_return'] = sell_h['close_h_return'].ffill()\n",
    "sell_h.loc[:, 'close_s_return'] = sell_h['close_s_return'].ffill()\n",
    "sell_h.loc[:, 'cumulative_h_return'] = (1 + sell_h['close_h_return']).cumprod() - 1\n",
    "sell_h.loc[:, 'cumulative_s_return'] = (1 + sell_h['close_s_return']).cumprod() - 1\n",
    "sell_h.loc[:, 'h_return_sell'] = -sell_h['cumulative_h_return']\n",
    "\n",
    "sell_h.loc[:, 'return'] = sell_h['cumulative_s_return'] + sell_h['h_return_sell'] + return1\n",
    "sell_h.to_csv('close_hs7.csv', index=True)\n",
    "\n",
    "print(\"신세계 롱 누적수익률:\", sell_h['cumulative_s_return'].iloc[-1]*100)\n",
    "print(\"현대백화점 숏 누적수익률:\", sell_h['h_return_sell'].iloc[-1]*100)\n",
    "return1 = sell_h['return'].iloc[-1]  # 매매 누적수익률\n",
    "print(\"매매 누적수익률:\", return1*100)"
   ]
  },
  {
   "cell_type": "code",
   "execution_count": 12,
   "id": "e25e954a-41c5-4e0f-85aa-2935f5b5cf5a",
   "metadata": {},
   "outputs": [
    {
     "name": "stdout",
     "output_type": "stream",
     "text": [
      "신세계 숏 누적수익률: -0.9803921568628082\n",
      "현대백화점 롱 누적수익률: -4.788213627992666\n",
      "매매 누적수익률: -13.197144437483532\n"
     ]
    }
   ],
   "source": [
    "start_date = end_date\n",
    "end_date ='2023-04-28'\n",
    "sell_s = close_hs.loc[start_date:end_date].copy()\n",
    "\n",
    "sell_s.loc[:, 'close_h_return'] = sell_s['Close_h'].pct_change()\n",
    "sell_s.loc[:, 'close_s_return'] = sell_s['Close_s'].pct_change()\n",
    "sell_s.loc[:, 'close_h_return'] = sell_s['close_h_return'].ffill()\n",
    "sell_s.loc[:, 'close_s_return'] = sell_s['close_s_return'].ffill()\n",
    "sell_s.loc[:, 'cumulative_h_return'] = (1 + sell_s['close_h_return']).cumprod() - 1\n",
    "sell_s.loc[:, 'cumulative_s_return'] = (1 + sell_s['close_s_return']).cumprod() - 1\n",
    "sell_s.loc[:, 's_return_sell'] = -sell_s['cumulative_s_return']\n",
    "sell_s.loc[:, 'return'] = sell_s['cumulative_h_return'] + sell_s['s_return_sell'] + return1\n",
    "sell_s.to_csv('close_hs8.csv', index=True)\n",
    "\n",
    "print(\"신세계 숏 누적수익률:\", sell_s['s_return_sell'].iloc[-1]*100)\n",
    "print(\"현대백화점 롱 누적수익률:\", sell_s['cumulative_h_return'].iloc[-1]*100)\n",
    "print(\"매매 누적수익률:\", sell_s['return'].iloc[-1]*100)\n",
    "return1 = sell_s['return'].iloc[-1]  # 매매 누적수익률"
   ]
  },
  {
   "cell_type": "code",
   "execution_count": 13,
   "id": "8955dbb3-b712-4b81-90b4-7a47a40bfc3c",
   "metadata": {},
   "outputs": [
    {
     "name": "stdout",
     "output_type": "stream",
     "text": [
      "신세계 롱 누적수익률: -13.543689320388374\n",
      "현대백화점 숏 누적수익률: 4.642166344294019\n",
      "매매 누적수익률: -22.09866741357789\n"
     ]
    }
   ],
   "source": [
    "start_date =end_date\n",
    "end_date = '2023-06-30'\n",
    "\n",
    "sell_h = close_hs.loc[start_date:end_date].copy()  # 복사본 생성\n",
    "sell_h.loc[:, 'close_h_return'] = sell_h['Close_h'].pct_change()\n",
    "sell_h.loc[:, 'close_s_return'] = sell_h['Close_s'].pct_change()\n",
    "sell_h.loc[:, 'close_h_return'] = sell_h['close_h_return'].ffill()\n",
    "sell_h.loc[:, 'close_s_return'] = sell_h['close_s_return'].ffill()\n",
    "sell_h.loc[:, 'cumulative_h_return'] = (1 + sell_h['close_h_return']).cumprod() - 1\n",
    "sell_h.loc[:, 'cumulative_s_return'] = (1 + sell_h['close_s_return']).cumprod() - 1\n",
    "sell_h.loc[:, 'h_return_sell'] = -sell_h['cumulative_h_return']\n",
    "\n",
    "sell_h.loc[:, 'return'] = sell_h['cumulative_s_return'] + sell_h['h_return_sell'] + return1\n",
    "sell_h.to_csv('close_hs9.csv', index=True)\n",
    "\n",
    "print(\"신세계 롱 누적수익률:\", sell_h['cumulative_s_return'].iloc[-1]*100)\n",
    "print(\"현대백화점 숏 누적수익률:\", sell_h['h_return_sell'].iloc[-1]*100)\n",
    "return1 = sell_h['return'].iloc[-1]  # 매매 누적수익률\n",
    "print(\"매매 누적수익률:\", return1*100)"
   ]
  },
  {
   "cell_type": "code",
   "execution_count": 14,
   "id": "f6757652-38ca-42af-b04d-72acc0467091",
   "metadata": {},
   "outputs": [
    {
     "name": "stdout",
     "output_type": "stream",
     "text": [
      "신세계 숏 누적수익률: -7.355418304323358\n",
      "현대백화점 롱 누적수익률: 12.37322515212982\n",
      "매매 누적수익률: -17.080860565771427\n"
     ]
    }
   ],
   "source": [
    "start_date = end_date\n",
    "end_date ='2023-07-31'\n",
    "sell_s = close_hs.loc[start_date:end_date].copy()\n",
    "\n",
    "sell_s.loc[:, 'close_h_return'] = sell_s['Close_h'].pct_change()\n",
    "sell_s.loc[:, 'close_s_return'] = sell_s['Close_s'].pct_change()\n",
    "sell_s.loc[:, 'close_h_return'] = sell_s['close_h_return'].ffill()\n",
    "sell_s.loc[:, 'close_s_return'] = sell_s['close_s_return'].ffill()\n",
    "sell_s.loc[:, 'cumulative_h_return'] = (1 + sell_s['close_h_return']).cumprod() - 1\n",
    "sell_s.loc[:, 'cumulative_s_return'] = (1 + sell_s['close_s_return']).cumprod() - 1\n",
    "sell_s.loc[:, 's_return_sell'] = -sell_s['cumulative_s_return']\n",
    "sell_s.loc[:, 'return'] = sell_s['cumulative_h_return'] + sell_s['s_return_sell'] + return1\n",
    "sell_s.to_csv('close_hs10.csv', index=True)\n",
    "\n",
    "print(\"신세계 숏 누적수익률:\", sell_s['s_return_sell'].iloc[-1]*100)\n",
    "print(\"현대백화점 롱 누적수익률:\", sell_s['cumulative_h_return'].iloc[-1]*100)\n",
    "print(\"매매 누적수익률:\", sell_s['return'].iloc[-1]*100)\n",
    "return1 = sell_s['return'].iloc[-1]  # 매매 누적수익률"
   ]
  },
  {
   "cell_type": "code",
   "execution_count": 16,
   "id": "f174b5ed-85ca-4fc1-9e49-b4731890bae1",
   "metadata": {},
   "outputs": [
    {
     "data": {
      "image/png": "[encoded data removed]",
      "text/plain": [
       "<Figure size 1200x600 with 1 Axes>"
      ]
     },
     "metadata": {},
     "output_type": "display_data"
    }
   ],
   "source": [
    "import pandas as pd\n",
    "import matplotlib.pyplot as plt\n",
    "from matplotlib import font_manager as fm\n",
    "\n",
    "plt.rc('font', family='Malgun Gothic') # 폰트 지정\n",
    "plt.rc('axes', unicode_minus=False) # 마이너스 폰트 설정\n",
    "\n",
    "# 빈 데이터프레임 생성\n",
    "combined_df = pd.DataFrame()\n",
    "\n",
    "# 파일을 하나씩 읽어와서 데이터프레임에 추가\n",
    "for i in range(1, 11):\n",
    "    file_name = f\"close_hs{i}.csv\"\n",
    "    df = pd.read_csv(file_name, parse_dates=['transaction_date'])\n",
    "    df['type'] = 'Shinsegae Long' if i % 2 == 1 else 'Hyundai Long'  # 홀수는 롯데 롱, 짝수는 현대 롱\n",
    "    combined_df = pd.concat([combined_df, df])\n",
    "\n",
    "# 필요한 전처리 수행\n",
    "combined_df.dropna(subset=['return'], inplace=True)\n",
    "\n",
    "# 파일을 구간별로 나누어 그래프 그리기\n",
    "plt.figure(figsize=(12, 6))\n",
    "start_index = 0\n",
    "colors = {'Hyundai Long': 'royalblue', 'Shinsegae Long': 'green'}  # 각 타입에 대한 색상 지정\n",
    "for i in range(1, 11):\n",
    "    end_index = i * len(combined_df) // 10\n",
    "    segment_df = combined_df.iloc[start_index:end_index]\n",
    "    type_name = segment_df['type'].iloc[0]  # 현재 구간의 타입 가져오기\n",
    "    marker = 'o'  # marker를 설정하여 모든 그룹에 대해 점으로 표시\n",
    "    plt.plot(segment_df['transaction_date'], segment_df['return'], label=f'Segment {i}', color=colors[type_name], marker=marker)\n",
    "    start_index = end_index\n",
    "\n",
    "# 범주 추가\n",
    "plt.legend(title='Type', loc='upper left', labels=list(reversed(sorted(colors.keys()))))  # 롯데 롱이 먼저 표시되도록 범주를 역순으로 정렬하여 표시\n",
    "\n",
    "plt.xlabel('Date')\n",
    "plt.ylabel('NAV')\n",
    "plt.title('현대백화점 신세계 카드사 비교 수익률 그래프')\n",
    "plt.grid(True)\n",
    "plt.tight_layout()\n",
    "plt.show()\n"
   ]
  },
  {
   "cell_type": "code",
   "execution_count": null,
   "id": "b35131b0-b076-4ac2-b73f-1122a8462d10",
   "metadata": {},
   "outputs": [],
   "source": []
  },
  {
   "cell_type": "code",
   "execution_count": null,
   "id": "ad854c78-b225-406e-abda-9cf64fcadacb",
   "metadata": {},
   "outputs": [],
   "source": []
  },
  {
   "cell_type": "code",
   "execution_count": 3,
   "id": "5932697e-057d-428f-8c0a-2453a971f1e4",
   "metadata": {},
   "outputs": [],
   "source": [
    "import matplotlib.pyplot as plt\n",
    "plt.rcParams['font.family'] = 'Arial'"
   ]
  },
  {
   "cell_type": "code",
   "execution_count": null,
   "id": "b0d78918-6fb1-4a2a-a9e8-019f494ef562",
   "metadata": {},
   "outputs": [],
   "source": []
  },
  {
   "cell_type": "code",
   "execution_count": null,
   "id": "1ffe061a-ba49-40ef-88ca-d56df35b4b62",
   "metadata": {},
   "outputs": [],
   "source": []
  },
  {
   "cell_type": "code",
   "execution_count": null,
   "id": "ceb8758e-2c7c-4816-b68f-b3458d265d6d",
   "metadata": {},
   "outputs": [],
   "source": []
  },
  {
   "cell_type": "markdown",
   "id": "4f632afa-62b6-4e3b-99cd-5c9a22b94158",
   "metadata": {},
   "source": [
    "참고들"
   ]
  },
  {
   "cell_type": "code",
   "execution_count": null,
   "id": "b83601ef-82ea-454d-8da3-93efb16602f2",
   "metadata": {},
   "outputs": [],
   "source": [
    "close_dm = pd.read_csv('card_data_(daesung,mega).csv', parse_dates=['transaction_date'])\n",
    "close_dm = close_dm[['transaction_date', 'mandata_brand_name']]\n",
    "m_df = close_dm[close_dm['mandata_brand_name'] == 'MEGASTUDYCO LTD_ALL']\n",
    "d_df = close_dm[close_dm['mandata_brand_name'] == 'DIGITAL DAESUNG CO LTD_ALL']\n",
    "\n",
    "m_df = m_df.sort_values(by='transaction_date')\n",
    "d_df = d_df.sort_values(by='transaction_date')\n",
    "\n",
    "next_month_date = m_df['transaction_date'].iloc[-1] + pd.offsets.MonthBegin(1)\n",
    "\n",
    "new_data = {\n",
    "    'transaction_date': pd.date_range(start=next_month_date, periods=31),\n",
    "    'mandata_brand_name': ['MEGASTUDYCO LTD_ALL'] * 31\n",
    "}\n",
    "new_data2 = {\n",
    "    'transaction_date': pd.date_range(start=next_month_date, periods=31),\n",
    "    'mandata_brand_name': ['DIGITAL DAESUNG CO LTD_ALL'] * 31\n",
    "}\n",
    "\n",
    "new_rows_df = pd.DataFrame(new_data)\n",
    "new_rows_df2 = pd.DataFrame(new_data2)\n",
    "m_df = pd.concat([m_df, new_rows_df], ignore_index=True)\n",
    "d_df = pd.concat([d_df, new_rows_df2], ignore_index=True)"
   ]
  },
  {
   "cell_type": "code",
   "execution_count": null,
   "id": "6f251093-0679-4801-847e-80cbf86a493f",
   "metadata": {},
   "outputs": [],
   "source": [
    "m_close = fdr.DataReader('072870', '2021-02-01', '2023-07-31') \n",
    "m_close = m_close[['Close']]\n",
    "d_close = fdr.DataReader('068930', '2021-02-01', '2023-07-31') \n",
    "d_close = d_close[['Close']]\n",
    "m_close.to_csv('m_close.csv', index=True)\n",
    "d_close.to_csv('d_close.csv', index=True)\n",
    "\n",
    "h_close = fdr.DataReader('069960', '2019-01-31', '2023-07-31') \n",
    "h_close = h_close[['Close']]\n",
    "l_close = fdr.DataReader('023530', '2019-01-31', '2023-07-31') \n",
    "l_close = l_close[['Close']]\n",
    "h_close.to_csv('h_close.csv', index=True)\n",
    "l_close.to_csv('l_close.csv', index=True)\n",
    "\n",
    "e_close = fdr.DataReader('139480', '2019-01-31', '2023-07-31') \n",
    "e_close = e_close[['Close']]\n",
    "s_close = fdr.DataReader('004170', '2019-01-31', '2023-07-31') \n",
    "s_close = s_close[['Close']]\n",
    "e_close.to_csv('e_close.csv', index=True)\n",
    "s_close.to_csv('s_close.csv', index=True)"
   ]
  }
 ],
 "metadata": {
  "kernelspec": {
   "display_name": "Python 3 (ipykernel)",
   "language": "python",
   "name": "python3"
  },
  "language_info": {
   "codemirror_mode": {
    "name": "ipython",
    "version": 3
   },
   "file_extension": ".py",
   "mimetype": "text/x-python",
   "name": "python",
   "nbconvert_exporter": "python",
   "pygments_lexer": "ipython3",
   "version": "3.11.7"
  }
 },
 "nbformat": 4,
 "nbformat_minor": 5
}
