{
 "cells": [
  {
   "cell_type": "code",
   "execution_count": 10,
   "id": "707bd3e6-6ac6-4b70-80d8-66dbb1774b5f",
   "metadata": {},
   "outputs": [],
   "source": [
    "import pandas as pd\n",
    "\n",
    "# 데이터 불러오기와 동시에 '날짜' 열을 datetime 형식으로 파싱\n",
    "data = pd.read_csv('stock_data_(hyundai,lotte).csv', parse_dates=['date'])\n",
    "\n",
    "# '날짜' 열에서 월을 추출하여 새로운 열 '월'을 추가합니다.\n",
    "data['mon'] = data['date'].dt.month\n",
    "data['year'] = data['date'].dt.year"
   ]
  },
  {
   "cell_type": "code",
   "execution_count": 17,
   "id": "e0090653-5c9d-46ba-8f26-52dbb0d41f9f",
   "metadata": {},
   "outputs": [],
   "source": [
    "monthly_data = data.groupby(['name', 'year', 'mon']).agg({\n",
    "    'sales_l': 'sum',\n",
    "    'number_l': 'sum',\n",
    "    'user_l': 'sum',\n",
    "    'sales_h': 'sum',\n",
    "    'number_h': 'sum',\n",
    "    'user_h': 'sum'\n",
    "}).reset_index()\n",
    "\n",
    "yearly_data = data.groupby(['name', 'year']).agg({\n",
    "    'sales_l': 'sum',\n",
    "    'number_l': 'sum',\n",
    "    'user_l': 'sum',\n",
    "    'sales_h': 'sum',\n",
    "    'number_h': 'sum',\n",
    "    'user_h': 'sum'\n",
    "}).reset_index()"
   ]
  },
  {
   "cell_type": "code",
   "execution_count": 18,
   "id": "a79ecd86-bde1-4b52-9fe2-dd27bdadfa43",
   "metadata": {},
   "outputs": [],
   "source": [
    "# 결과를 CSV 파일로 저장\n",
    "monthly_data.to_csv('monthly_data.csv', index=False)\n",
    "# 결과를 CSV 파일로 저장\n",
    "yearly_data.to_csv('yearly_data.csv', index=False)"
   ]
  }
 ],
 "metadata": {
  "kernelspec": {
   "display_name": "Python 3 (ipykernel)",
   "language": "python",
   "name": "python3"
  },
  "language_info": {
   "codemirror_mode": {
    "name": "ipython",
    "version": 3
   },
   "file_extension": ".py",
   "mimetype": "text/x-python",
   "name": "python",
   "nbconvert_exporter": "python",
   "pygments_lexer": "ipython3",
   "version": "3.12.1"
  }
 },
 "nbformat": 4,
 "nbformat_minor": 5
}
